{
 "cells": [
  {
   "cell_type": "code",
   "execution_count": 1,
   "metadata": {},
   "outputs": [
    {
     "name": "stderr",
     "output_type": "stream",
     "text": [
      "Using TensorFlow backend.\n"
     ]
    }
   ],
   "source": [
    "import cv2\n",
    "import numpy as np\n",
    "import matplotlib.pyplot as plt\n",
    "\n",
    "import tensorflow.keras as keras\n",
    "from keras.models import Sequential\n",
    "from keras.layers import Dense, Dropout, Flatten,LeakyReLU\n",
    "from keras.layers import Conv2D\n",
    "from keras.optimizers import Adam\n",
    "from keras.layers import MaxPooling2D\n",
    "from keras.preprocessing.image import ImageDataGenerator\n",
    "\n",
    "\n",
    "from mtcnn.mtcnn import MTCNN\n",
    "import cv2\n",
    "import numpy as np\n",
    "import matplotlib.pyplot as plt\n",
    "detector = MTCNN()\n",
    "import cv2"
   ]
  },
  {
   "cell_type": "code",
   "execution_count": 2,
   "metadata": {},
   "outputs": [],
   "source": [
    "model = Sequential()\n",
    "#1\n",
    "model.add(Conv2D(32, kernel_size=(3, 3),input_shape=(48,48,1)))\n",
    "\n",
    "model.add(LeakyReLU(alpha=0.1))\n",
    "#2\n",
    "model.add(Conv2D(32, kernel_size=(3, 3)))\n",
    "\n",
    "model.add(LeakyReLU(alpha=0.1))\n",
    "\n",
    "model.add(MaxPooling2D(pool_size=(2, 2)))\n",
    "\n",
    "model.add(Dropout(0.20))\n",
    "#3\n",
    "model.add(Conv2D(64, kernel_size=(3, 3)))\n",
    "\n",
    "model.add(LeakyReLU(alpha=0.1))\n",
    "\n",
    "#\n",
    "model.add(Dropout(0.20))\n",
    "\n",
    "\n",
    "\n",
    "model.add(MaxPooling2D(pool_size=(2, 2)))\n",
    "#4\n",
    "model.add(Conv2D(64, kernel_size=(3, 3)))\n",
    "\n",
    "model.add(LeakyReLU(alpha=0.1))\n",
    "\n",
    "model.add(MaxPooling2D(pool_size=(2, 2)))\n",
    "\n",
    "model.add(Dropout(0.20))\n",
    "\n",
    "model.add(Flatten())\n",
    "\n",
    "model.add(Dense(512))\n",
    "\n",
    "model.add(LeakyReLU(alpha=0.1))\n",
    "\n",
    "model.add(Dropout(0.5))\n",
    "\n",
    "model.add(Dense(7, activation='softmax'))\n",
    "\n",
    "model.load_weights('model.h5')"
   ]
  },
  {
   "cell_type": "code",
   "execution_count": 3,
   "metadata": {},
   "outputs": [],
   "source": [
    "emotion_dict = {0: \"Angry\", 1: \"Disgusted\", 2: \"Fearful\", \n",
    "                        3: \"Happy\", 4: \"Neutral\", 5: \"Sad\", 6: \"Surprised\"}\n",
    "\n",
    "emoji_dist={0:\"./emojis/chopper/angry.jpg\",\n",
    "            1:\"./emojis/chopper/disgusted.jpg\",2:\"./emojis/chopper/fearful.jpg\",\n",
    "            3:\"./emojis/chopper/happy.jpg\",\n",
    "            4:\"./emojis/chopper/neutral.jpg\",\n",
    "            5:\"./emojis/chopper/sad.jpg\",6:\"./emojis/chopper/surprised.jpg\"}\n"
   ]
  },
  {
   "cell_type": "code",
   "execution_count": null,
   "metadata": {},
   "outputs": [],
   "source": [
    "rand=cv2.VideoCapture(0)\n",
    "while True:\n",
    "    confirm, frame=rand.read()\n",
    "    #frame[0:250,390::]=0\n",
    "    if not confirm :\n",
    "        break\n",
    "    grayed=cv2.cvtColor(frame,cv2.COLOR_RGB2GRAY)\n",
    "    faces = detector.detect_faces(frame)\n",
    "    value= None\n",
    "    for i in faces:\n",
    "        if len(i[\"box\"])>0:\n",
    "        \n",
    "            left,top,right,bottom=i[\"box\"]\n",
    "    #print(faces)\n",
    "    #cv2.imshow(\"frame\",frame)\n",
    "            cv2.rectangle(frame,(left,top),(right+left,bottom+top),(0,0,255),2)\n",
    "            cropped=grayed[top:top+bottom,left:left+right]\n",
    "            sample=np.expand_dims(np.expand_dims(cv2.resize(cropped,(48,48)),axis=2),axis=0)\n",
    "            q=model.predict(sample)\n",
    "            value=np.argmax(q)\n",
    "            predicted_emotion=emotion_dict[value]\n",
    "            \n",
    "            k=cv2.imread(emoji_dist[value])\n",
    "            k=cv2.resize(k,(100,100))\n",
    "            frame[0:100,540::]=0\n",
    "            frame[0:100,540::]=k\n",
    "            cv2.putText(frame,predicted_emotion,(left+20,top-60), cv2.FONT_HERSHEY_SIMPLEX, 1, (255, 255, 255), 2)\n",
    "\n",
    "    #frame[0:250,390::]=cv2.resize(cv2.imread(emoji_dist[0],(250,250)))\n",
    "    cv2.imshow(\"bro\",frame)\n",
    "    if cv2.waitKey(1) & 0xFF == ord('q'):\n",
    "        exit()"
   ]
  }
 ],
 "metadata": {
  "kernelspec": {
   "display_name": "Python 3",
   "language": "python",
   "name": "python3"
  },
  "language_info": {
   "codemirror_mode": {
    "name": "ipython",
    "version": 3
   },
   "file_extension": ".py",
   "mimetype": "text/x-python",
   "name": "python",
   "nbconvert_exporter": "python",
   "pygments_lexer": "ipython3",
   "version": "3.7.9"
  }
 },
 "nbformat": 4,
 "nbformat_minor": 4
}
